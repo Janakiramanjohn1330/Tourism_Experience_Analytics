{
 "cells": [
  {
   "cell_type": "code",
   "execution_count": 1,
   "id": "9aebabbb",
   "metadata": {},
   "outputs": [],
   "source": [
    "from sklearn.metrics import mean_squared_error,r2_score,mean_absolute_error\n",
    "from sklearn.model_selection import train_test_split\n",
    "import pandas as pd"
   ]
  },
  {
   "cell_type": "code",
   "execution_count": 2,
   "metadata": {},
   "outputs": [],
   "source": [
    "ml = pd.read_csv(\"c:/Users/Admin/Desktop/DS_PROJECT/Tourism_ML_project/fillna dataset.csv\")"
   ]
  },
  {
   "cell_type": "code",
   "execution_count": 3,
   "id": "cb6fb4cf",
   "metadata": {},
   "outputs": [],
   "source": [
    "dup=ml.duplicated().sum()"
   ]
  },
  {
   "cell_type": "code",
   "execution_count": 4,
   "id": "a91acaa0",
   "metadata": {},
   "outputs": [
    {
     "data": {
      "text/plain": [
       "np.int64(0)"
      ]
     },
     "execution_count": 4,
     "metadata": {},
     "output_type": "execute_result"
    }
   ],
   "source": [
    "dup"
   ]
  },
  {
   "cell_type": "code",
   "execution_count": 5,
   "id": "8f93098e",
   "metadata": {},
   "outputs": [
    {
     "data": {
      "text/plain": [
       "UserId            0\n",
       "VisitYear         0\n",
       "VisitMonth        0\n",
       "CityName          0\n",
       "Country           0\n",
       "Region            0\n",
       "Continent         0\n",
       "VisitMode         0\n",
       "Attraction        0\n",
       "AttractionType    0\n",
       "Rating            0\n",
       "dtype: int64"
      ]
     },
     "execution_count": 5,
     "metadata": {},
     "output_type": "execute_result"
    }
   ],
   "source": [
    "ml.isnull().sum() # check the null values"
   ]
  },
  {
   "cell_type": "code",
   "execution_count": 6,
   "metadata": {},
   "outputs": [
    {
     "data": {
      "text/html": [
       "<div>\n",
       "<style scoped>\n",
       "    .dataframe tbody tr th:only-of-type {\n",
       "        vertical-align: middle;\n",
       "    }\n",
       "\n",
       "    .dataframe tbody tr th {\n",
       "        vertical-align: top;\n",
       "    }\n",
       "\n",
       "    .dataframe thead th {\n",
       "        text-align: right;\n",
       "    }\n",
       "</style>\n",
       "<table border=\"1\" class=\"dataframe\">\n",
       "  <thead>\n",
       "    <tr style=\"text-align: right;\">\n",
       "      <th></th>\n",
       "      <th>UserId</th>\n",
       "      <th>VisitYear</th>\n",
       "      <th>VisitMonth</th>\n",
       "      <th>CityName</th>\n",
       "      <th>Country</th>\n",
       "      <th>Region</th>\n",
       "      <th>Continent</th>\n",
       "      <th>VisitMode</th>\n",
       "      <th>Attraction</th>\n",
       "      <th>AttractionType</th>\n",
       "      <th>Rating</th>\n",
       "    </tr>\n",
       "  </thead>\n",
       "  <tbody>\n",
       "    <tr>\n",
       "      <th>0</th>\n",
       "      <td>70456</td>\n",
       "      <td>2022</td>\n",
       "      <td>10</td>\n",
       "      <td>Guildford</td>\n",
       "      <td>Australia</td>\n",
       "      <td>Australia</td>\n",
       "      <td>Australia &amp; Oceania</td>\n",
       "      <td>Couples</td>\n",
       "      <td>Sacred Monkey Forest Sanctuary</td>\n",
       "      <td>Nature &amp; Wildlife Areas</td>\n",
       "      <td>5</td>\n",
       "    </tr>\n",
       "  </tbody>\n",
       "</table>\n",
       "</div>"
      ],
      "text/plain": [
       "   UserId  VisitYear  VisitMonth   CityName    Country     Region  \\\n",
       "0   70456       2022          10  Guildford  Australia  Australia   \n",
       "\n",
       "             Continent VisitMode                      Attraction  \\\n",
       "0  Australia & Oceania   Couples  Sacred Monkey Forest Sanctuary   \n",
       "\n",
       "            AttractionType  Rating  \n",
       "0  Nature & Wildlife Areas       5  "
      ]
     },
     "execution_count": 6,
     "metadata": {},
     "output_type": "execute_result"
    }
   ],
   "source": [
    "ml.head(1)"
   ]
  },
  {
   "cell_type": "code",
   "execution_count": 7,
   "metadata": {},
   "outputs": [
    {
     "data": {
      "text/plain": [
       "Index(['CityName', 'Country', 'Region', 'Continent', 'VisitMode', 'Attraction',\n",
       "       'AttractionType'],\n",
       "      dtype='object')"
      ]
     },
     "execution_count": 7,
     "metadata": {},
     "output_type": "execute_result"
    }
   ],
   "source": [
    "cat=ml.select_dtypes(exclude=['int64','float64']).columns\n",
    "cat"
   ]
  },
  {
   "cell_type": "code",
   "execution_count": 8,
   "metadata": {},
   "outputs": [],
   "source": [
    "from sklearn.preprocessing import LabelEncoder\n",
    "\n",
    "categorical_data=['CityName','Country','Region','Continent','VisitMode','Attraction','AttractionType']\n",
    "\n",
    "label_encoders = {}  # Dictionary to store encoders\n",
    "\n",
    "for col in categorical_data:\n",
    "    le = LabelEncoder()\n",
    "    ml[col] = le.fit_transform(ml[col])\n",
    "    label_encoders[col] = le  # Save the fitted encoder"
   ]
  },
  {
   "cell_type": "markdown",
   "id": "b94a776b",
   "metadata": {},
   "source": [
    "# LINEAR REGERSSION MODEL"
   ]
  },
  {
   "cell_type": "code",
   "execution_count": 9,
   "id": "0d990a4b",
   "metadata": {},
   "outputs": [
    {
     "name": "stdout",
     "output_type": "stream",
     "text": [
      "MEAN SQUARE ERROR: 0.91\n",
      "MEAN ABSOLUTE ERROR: 0.74\n",
      "R2 SCORE: 0.04\n"
     ]
    }
   ],
   "source": [
    "from sklearn.linear_model import LinearRegression\n",
    "\n",
    "\n",
    "# split the data into  features and Target\n",
    "x = ml.drop(columns=['Rating'])\n",
    "y = ml['Rating']\n",
    "\n",
    "# split the dataset into traning and testing sets 80% training 20% testin\n",
    "x_train,x_test,y_train,y_test=train_test_split(x,y,test_size=0.2,random_state=42)\n",
    "\n",
    "# Train Linear regression Model\n",
    "linear_model=LinearRegression()\n",
    "linear_model.fit(x_train,y_train)\n",
    "\n",
    "# make prediction on the test data\n",
    "linear_pred=linear_model.predict(x_test)\n",
    "\n",
    "# Evaluation Metrics\n",
    "mse=mean_squared_error(y_test,linear_pred)\n",
    "mae=mean_absolute_error(y_test,linear_pred)\n",
    "r2=r2_score(y_test,linear_pred)\n",
    "\n",
    "# Print Evaluation Metrics \n",
    "print(f\"MEAN SQUARE ERROR: {mse:.2f}\")\n",
    "print(f\"MEAN ABSOLUTE ERROR: {mae:.2f}\")\n",
    "print(f\"R2 SCORE: {r2:.2f}\")\n"
   ]
  },
  {
   "cell_type": "markdown",
   "id": "6805b8d5",
   "metadata": {},
   "source": [
    "# RANDOMFOREST REGREESION MODEL"
   ]
  },
  {
   "cell_type": "code",
   "execution_count": 10,
   "metadata": {},
   "outputs": [
    {
     "name": "stdout",
     "output_type": "stream",
     "text": [
      "MSE: 0.90\n",
      "MAE: 0.75\n",
      "R² Score: 0.050\n"
     ]
    }
   ],
   "source": [
    "from sklearn.ensemble import RandomForestRegressor\n",
    "\n",
    "\n",
    "# Train the RandomForestRegressor Model\n",
    "rf=RandomForestRegressor(n_estimators=100,random_state=42)\n",
    "rf.fit(x_train,y_train)\n",
    "\n",
    "# make prediction on the test set\n",
    "rf_pred=rf.predict(x_test)\n",
    "\n",
    "# Evaluation Metrics\n",
    "mse = mean_squared_error(y_test, rf_pred)\n",
    "mae = mean_absolute_error(y_test, rf_pred)\n",
    "r2 = r2_score(y_test, rf_pred)\n",
    "\n",
    "# Print Evaluation Metrics\n",
    "print(f\"MSE: {mse:.2f}\")\n",
    "print(f\"MAE: {mae:.2f}\")\n",
    "print(f\"R² Score: {r2:.3f}\")"
   ]
  },
  {
   "cell_type": "markdown",
   "id": "fdd4e216",
   "metadata": {},
   "source": [
    "# DecisionTreeRegressor Model"
   ]
  },
  {
   "cell_type": "code",
   "execution_count": 11,
   "metadata": {},
   "outputs": [
    {
     "name": "stdout",
     "output_type": "stream",
     "text": [
      "DecisionTreeRegressor:\n",
      "MSE: 1.71\n",
      "MAE: 0.93\n",
      "R² Score: -0.797\n"
     ]
    }
   ],
   "source": [
    "from sklearn.tree import DecisionTreeRegressor\n",
    "\n",
    "# Train the DecisionTreeRegressor Model\n",
    "df=DecisionTreeRegressor(random_state=42)\n",
    "df.fit(x_train,y_train)\n",
    "\n",
    "# make prediction on the test set\n",
    "df_pred=df.predict(x_test)\n",
    "\n",
    "# Evaluation Metrics\n",
    "mse = mean_squared_error(y_test, df_pred)\n",
    "mae = mean_absolute_error(y_test, df_pred)\n",
    "r2 = r2_score(y_test, df_pred)\n",
    "\n",
    "# Print Evaluation Metrics\n",
    "print(\"DecisionTreeRegressor:\")\n",
    "print(f\"MSE: {mse:.2f}\")\n",
    "print(f\"MAE: {mae:.2f}\")\n",
    "print(f\"R² Score: {r2:.3f}\")"
   ]
  },
  {
   "cell_type": "markdown",
   "id": "aa0c78fe",
   "metadata": {},
   "source": [
    "# GradientBoostingRegressor Model"
   ]
  },
  {
   "cell_type": "code",
   "execution_count": 12,
   "id": "bdbed63a",
   "metadata": {},
   "outputs": [
    {
     "name": "stdout",
     "output_type": "stream",
     "text": [
      "GradientBoostingRegressor:\n",
      "MSE: 0.84\n",
      "MAE: 0.72\n",
      "R² Score: 0.120\n"
     ]
    }
   ],
   "source": [
    "from sklearn.ensemble import GradientBoostingRegressor\n",
    "\n",
    "# Train the GradientBoostingRegressor Model\n",
    "gb=GradientBoostingRegressor(n_estimators=100,random_state=42)\n",
    "gb.fit(x_train,y_train)\n",
    "\n",
    "# make prediction on the test set\n",
    "gb_pred=gb.predict(x_test)\n",
    "\n",
    "# Evaluation Metrics\n",
    "mse = mean_squared_error(y_test, gb_pred)\n",
    "mae = mean_absolute_error(y_test, gb_pred)\n",
    "r2 = r2_score(y_test, gb_pred)\n",
    "\n",
    "# Print Evaluation Metrics\n",
    "print(\"GradientBoostingRegressor:\")\n",
    "print(f\"MSE: {mse:.2f}\")\n",
    "print(f\"MAE: {mae:.2f}\")\n",
    "print(f\"R² Score: {r2:.3f}\")"
   ]
  }
 ],
 "metadata": {
  "kernelspec": {
   "display_name": "Python 3",
   "language": "python",
   "name": "python3"
  },
  "language_info": {
   "codemirror_mode": {
    "name": "ipython",
    "version": 3
   },
   "file_extension": ".py",
   "mimetype": "text/x-python",
   "name": "python",
   "nbconvert_exporter": "python",
   "pygments_lexer": "ipython3",
   "version": "3.13.1"
  }
 },
 "nbformat": 4,
 "nbformat_minor": 5
}
