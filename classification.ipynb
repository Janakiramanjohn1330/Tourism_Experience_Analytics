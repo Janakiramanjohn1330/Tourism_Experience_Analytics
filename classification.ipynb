{
 "cells": [
  {
   "cell_type": "code",
   "execution_count": 1,
   "id": "6f1fb4b6",
   "metadata": {},
   "outputs": [],
   "source": [
    "import pandas as pd\n",
    "from sklearn.model_selection import train_test_split\n",
    "from lightgbm import LGBMClassifier\n",
    "from sklearn.metrics import accuracy_score,precision_score,recall_score,f1_score,classification_report\n",
    "import numpy as np"
   ]
  },
  {
   "cell_type": "code",
   "execution_count": 2,
   "id": "6b52433d",
   "metadata": {},
   "outputs": [],
   "source": [
    "ml = pd.read_csv(\"c:/Users/Admin/Desktop/DS_PROJECT/Tourism_ML_project/fillna dataset.csv\")"
   ]
  },
  {
   "cell_type": "code",
   "execution_count": 3,
   "id": "ab06c9f8",
   "metadata": {},
   "outputs": [
    {
     "data": {
      "text/plain": [
       "np.int64(0)"
      ]
     },
     "execution_count": 3,
     "metadata": {},
     "output_type": "execute_result"
    }
   ],
   "source": [
    "ml.duplicated().sum()"
   ]
  },
  {
   "cell_type": "code",
   "execution_count": 4,
   "id": "59f8b2e6",
   "metadata": {},
   "outputs": [
    {
     "data": {
      "text/plain": [
       "UserId            0\n",
       "VisitYear         0\n",
       "VisitMonth        0\n",
       "CityName          0\n",
       "Country           0\n",
       "Region            0\n",
       "Continent         0\n",
       "VisitMode         0\n",
       "Attraction        0\n",
       "AttractionType    0\n",
       "Rating            0\n",
       "dtype: int64"
      ]
     },
     "execution_count": 4,
     "metadata": {},
     "output_type": "execute_result"
    }
   ],
   "source": [
    "ml.isnull().sum() # check the null values"
   ]
  },
  {
   "cell_type": "code",
   "execution_count": 5,
   "id": "64f30508",
   "metadata": {},
   "outputs": [
    {
     "data": {
      "text/html": [
       "<div>\n",
       "<style scoped>\n",
       "    .dataframe tbody tr th:only-of-type {\n",
       "        vertical-align: middle;\n",
       "    }\n",
       "\n",
       "    .dataframe tbody tr th {\n",
       "        vertical-align: top;\n",
       "    }\n",
       "\n",
       "    .dataframe thead th {\n",
       "        text-align: right;\n",
       "    }\n",
       "</style>\n",
       "<table border=\"1\" class=\"dataframe\">\n",
       "  <thead>\n",
       "    <tr style=\"text-align: right;\">\n",
       "      <th></th>\n",
       "      <th>UserId</th>\n",
       "      <th>VisitYear</th>\n",
       "      <th>VisitMonth</th>\n",
       "      <th>CityName</th>\n",
       "      <th>Country</th>\n",
       "      <th>Region</th>\n",
       "      <th>Continent</th>\n",
       "      <th>VisitMode</th>\n",
       "      <th>Attraction</th>\n",
       "      <th>AttractionType</th>\n",
       "      <th>Rating</th>\n",
       "    </tr>\n",
       "  </thead>\n",
       "  <tbody>\n",
       "    <tr>\n",
       "      <th>0</th>\n",
       "      <td>70456</td>\n",
       "      <td>2022</td>\n",
       "      <td>10</td>\n",
       "      <td>Guildford</td>\n",
       "      <td>Australia</td>\n",
       "      <td>Australia</td>\n",
       "      <td>Australia &amp; Oceania</td>\n",
       "      <td>Couples</td>\n",
       "      <td>Sacred Monkey Forest Sanctuary</td>\n",
       "      <td>Nature &amp; Wildlife Areas</td>\n",
       "      <td>5</td>\n",
       "    </tr>\n",
       "  </tbody>\n",
       "</table>\n",
       "</div>"
      ],
      "text/plain": [
       "   UserId  VisitYear  VisitMonth   CityName    Country     Region  \\\n",
       "0   70456       2022          10  Guildford  Australia  Australia   \n",
       "\n",
       "             Continent VisitMode                      Attraction  \\\n",
       "0  Australia & Oceania   Couples  Sacred Monkey Forest Sanctuary   \n",
       "\n",
       "            AttractionType  Rating  \n",
       "0  Nature & Wildlife Areas       5  "
      ]
     },
     "execution_count": 5,
     "metadata": {},
     "output_type": "execute_result"
    }
   ],
   "source": [
    "ml.head(1)"
   ]
  },
  {
   "cell_type": "code",
   "execution_count": 6,
   "metadata": {},
   "outputs": [
    {
     "data": {
      "text/plain": [
       "Index(['CityName', 'Country', 'Region', 'Continent', 'VisitMode', 'Attraction',\n",
       "       'AttractionType'],\n",
       "      dtype='object')"
      ]
     },
     "execution_count": 6,
     "metadata": {},
     "output_type": "execute_result"
    }
   ],
   "source": [
    "cat=ml.select_dtypes(exclude=['int64','float64']).columns\n",
    "cat"
   ]
  },
  {
   "cell_type": "code",
   "execution_count": 8,
   "id": "28a6dc25",
   "metadata": {},
   "outputs": [],
   "source": [
    "from sklearn.preprocessing import LabelEncoder\n",
    "\n",
    "categorical_data=['CityName','Country','Region','Continent','VisitMode','Attraction','AttractionType']\n",
    "\n",
    "label_encoders = {}  # Dictionary to store encoders\n",
    "\n",
    "for col in categorical_data:\n",
    "    le = LabelEncoder()\n",
    "    ml[col] = le.fit_transform(ml[col])\n",
    "    label_encoders[col] = le  \n"
   ]
  },
  {
   "cell_type": "markdown",
   "id": "99a042fb",
   "metadata": {},
   "source": [
    "# RANDOMFOREST CLASSIFIER MODEL"
   ]
  },
  {
   "cell_type": "code",
   "execution_count": 9,
   "id": "9882d607",
   "metadata": {},
   "outputs": [
    {
     "name": "stdout",
     "output_type": "stream",
     "text": [
      "ACCURACY: 0.48\n",
      "F1 SCORE: 0.45\n",
      "RECALL SCORE: 0.48\n",
      "CLASSIFICATION REPORT:\n",
      "               precision    recall  f1-score   support\n",
      "\n",
      "           0       0.12      0.03      0.05       123\n",
      "           1       0.51      0.73      0.60      4048\n",
      "           2       0.49      0.46      0.48      2809\n",
      "           3       0.36      0.21      0.26      2056\n",
      "           4       0.35      0.09      0.15       804\n",
      "\n",
      "    accuracy                           0.48      9840\n",
      "   macro avg       0.37      0.30      0.31      9840\n",
      "weighted avg       0.46      0.48      0.45      9840\n",
      "\n"
     ]
    }
   ],
   "source": [
    "from sklearn.ensemble import RandomForestClassifier\n",
    "\n",
    "\n",
    "# split the data into  features and Target\n",
    "x = ml.drop(columns=['VisitMode'])\n",
    "y = ml['VisitMode']\n",
    "\n",
    "# split the dataset into traning and testing sets 80% training 20% testin\n",
    "x_train,x_test,y_train,y_test=train_test_split(x,y,test_size=0.2,random_state=42)\n",
    "\n",
    "# Train a randomforest model\n",
    "rf=RandomForestClassifier(n_estimators=100,random_state=42)\n",
    "rf.fit(x_train,y_train)\n",
    "\n",
    "# make prediction on the test set\n",
    "rf_pred=rf.predict(x_test)\n",
    "\n",
    "# Evaluation Metrics\n",
    "accuracy = accuracy_score(y_test, rf_pred)\n",
    "f1 = f1_score(y_test, rf_pred, average='weighted')  # 'weighted' or 'macro' \n",
    "recall = recall_score(y_test, rf_pred, average='weighted')  # same here\n",
    "report = classification_report(y_test, rf_pred)\n",
    "\n",
    "# Print Evaluation Metrics\n",
    "print(f\"ACCURACY: {accuracy:.2f}\")\n",
    "print(f\"F1 SCORE: {f1:.2f}\")\n",
    "print(f\"RECALL SCORE: {recall:.2f}\")\n",
    "print(\"CLASSIFICATION REPORT:\\n\", report)\n"
   ]
  },
  {
   "cell_type": "markdown",
   "id": "be96d91e",
   "metadata": {},
   "source": [
    "# LOGISTIC REGRESSION MODEL"
   ]
  },
  {
   "cell_type": "code",
   "execution_count": 10,
   "id": "80eeecc9",
   "metadata": {},
   "outputs": [
    {
     "name": "stdout",
     "output_type": "stream",
     "text": [
      "LINEARGRESSION ACCURACY: 0.48\n",
      "CLASSIFICATION REPORT:              precision    recall  f1-score   support\n",
      "\n",
      "           0       0.12      0.03      0.05       123\n",
      "           1       0.51      0.73      0.60      4048\n",
      "           2       0.49      0.46      0.48      2809\n",
      "           3       0.36      0.21      0.26      2056\n",
      "           4       0.35      0.09      0.15       804\n",
      "\n",
      "    accuracy                           0.48      9840\n",
      "   macro avg       0.37      0.30      0.31      9840\n",
      "weighted avg       0.46      0.48      0.45      9840\n",
      "\n"
     ]
    },
    {
     "name": "stderr",
     "output_type": "stream",
     "text": [
      "c:\\Users\\Admin\\AppData\\Local\\Programs\\Python\\Python313\\Lib\\site-packages\\sklearn\\linear_model\\_logistic.py:465: ConvergenceWarning: lbfgs failed to converge (status=1):\n",
      "STOP: TOTAL NO. OF ITERATIONS REACHED LIMIT.\n",
      "\n",
      "Increase the number of iterations (max_iter) or scale the data as shown in:\n",
      "    https://scikit-learn.org/stable/modules/preprocessing.html\n",
      "Please also refer to the documentation for alternative solver options:\n",
      "    https://scikit-learn.org/stable/modules/linear_model.html#logistic-regression\n",
      "  n_iter_i = _check_optimize_result(\n"
     ]
    }
   ],
   "source": [
    "from sklearn.linear_model import LogisticRegression\n",
    "\n",
    "# Train a LogisticRegression model\n",
    "lr= LogisticRegression(max_iter=1000)\n",
    "lr.fit(x_train,y_train)\n",
    "\n",
    "# make prediction on the test set\n",
    "lr_predict= lr.predict(x_test)\n",
    "\n",
    "# Evaluation Metrics\n",
    "accuracy_score=(y_test, lr_predict)\n",
    "classification_report=(y_test,lr_predict)\n",
    "\n",
    "# Print Evaluation Metrics\n",
    "print(f\"LINEARGRESSION ACCURACY: {accuracy:.2f}\")\n",
    "print(f\"CLASSIFICATION REPORT:{report}\")"
   ]
  },
  {
   "cell_type": "markdown",
   "id": "27bd2450",
   "metadata": {},
   "source": [
    "# XGB MODEL"
   ]
  },
  {
   "cell_type": "code",
   "execution_count": 11,
   "id": "fa8e0bf9",
   "metadata": {},
   "outputs": [
    {
     "name": "stdout",
     "output_type": "stream",
     "text": [
      "XGB ACCURACY: 0.48\n"
     ]
    }
   ],
   "source": [
    "from xgboost import XGBClassifier\n",
    "\n",
    "\n",
    "# Train the XBG Model\n",
    "xgb_model=XGBClassifier(n_estimators=100,learning_rate=0.1,eval_metric=\"mlogloss\")\n",
    "xgb_model.fit(x_train,y_train)\n",
    "\n",
    "# Make the prediction on the test set\n",
    "xgb_predict=xgb_model.predict(x_test)\n",
    "\n",
    "# Evaluation Metrics\n",
    "accuracy_score=(y_test,xgb_predict)\n",
    "\n",
    "# Print Evaluation Metrics\n",
    "print(f\"XGB ACCURACY: {accuracy:.2f}\")"
   ]
  },
  {
   "cell_type": "markdown",
   "id": "e573d679",
   "metadata": {},
   "source": [
    "# LGB MODEL"
   ]
  },
  {
   "cell_type": "code",
   "execution_count": 12,
   "id": "a2aeb972",
   "metadata": {},
   "outputs": [
    {
     "name": "stdout",
     "output_type": "stream",
     "text": [
      "[LightGBM] [Info] Auto-choosing row-wise multi-threading, the overhead of testing was 0.002517 seconds.\n",
      "You can set `force_row_wise=true` to remove the overhead.\n",
      "And if memory is not enough, you can set `force_col_wise=true`.\n",
      "[LightGBM] [Info] Total Bins 739\n",
      "[LightGBM] [Info] Number of data points in the train set: 39360, number of used features: 10\n",
      "[LightGBM] [Info] Start training from score -4.498286\n",
      "[LightGBM] [Info] Start training from score -0.884411\n",
      "[LightGBM] [Info] Start training from score -1.243885\n",
      "[LightGBM] [Info] Start training from score -1.590313\n",
      "[LightGBM] [Info] Start training from score -2.479434\n",
      "LGB ACCURACY: 0.49095528455284554\n"
     ]
    }
   ],
   "source": [
    "from lightgbm import LGBMClassifier\n",
    "from sklearn.metrics import accuracy_score\n",
    "\n",
    "lgb_model = LGBMClassifier(n_estimators=100, learning_rate=0.1)\n",
    "lgb_model.fit(x_train, y_train)\n",
    "\n",
    "lgb_predict = lgb_model.predict(x_test)\n",
    "\n",
    "print(\"LGB ACCURACY:\", accuracy_score(y_test, lgb_predict))\n"
   ]
  }
 ],
 "metadata": {
  "kernelspec": {
   "display_name": "Python 3",
   "language": "python",
   "name": "python3"
  },
  "language_info": {
   "codemirror_mode": {
    "name": "ipython",
    "version": 3
   },
   "file_extension": ".py",
   "mimetype": "text/x-python",
   "name": "python",
   "nbconvert_exporter": "python",
   "pygments_lexer": "ipython3",
   "version": "3.13.1"
  }
 },
 "nbformat": 4,
 "nbformat_minor": 5
}
